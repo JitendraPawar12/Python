{
 "cells": [
  {
   "cell_type": "code",
   "execution_count": 0,
   "metadata": {
    "application/vnd.databricks.v1+cell": {
     "cellMetadata": {
      "byteLimit": 2048000,
      "rowLimit": 10000
     },
     "inputWidgets": {},
     "nuid": "8949bd32-66f3-4235-a1fb-ff0852d5b67e",
     "showTitle": false,
     "title": ""
    }
   },
   "outputs": [
    {
     "output_type": "display_data",
     "data": {
      "text/html": [
       "<style scoped>\n",
       "  .table-result-container {\n",
       "    max-height: 300px;\n",
       "    overflow: auto;\n",
       "  }\n",
       "  table, th, td {\n",
       "    border: 1px solid black;\n",
       "    border-collapse: collapse;\n",
       "  }\n",
       "  th, td {\n",
       "    padding: 5px;\n",
       "  }\n",
       "  th {\n",
       "    text-align: left;\n",
       "  }\n",
       "</style><div class='table-result-container'><table class='table-result'><thead style='background-color: white'><tr><th>path</th><th>name</th><th>size</th><th>modificationTime</th></tr></thead><tbody><tr><td>dbfs:/FileStore/tables/HR_Employee.csv</td><td>HR_Employee.csv</td><td>227977</td><td>1704495271000</td></tr><tr><td>dbfs:/FileStore/tables/asa_airline/</td><td>asa_airline/</td><td>0</td><td>1704175613000</td></tr><tr><td>dbfs:/FileStore/tables/categories_csv.txt</td><td>categories_csv.txt</td><td>1029</td><td>1703833197000</td></tr><tr><td>dbfs:/FileStore/tables/categories_csv_json.txt/</td><td>categories_csv_json.txt/</td><td>0</td><td>1704156061000</td></tr><tr><td>dbfs:/FileStore/tables/categories_csv_pipe.txt/</td><td>categories_csv_pipe.txt/</td><td>0</td><td>1704155072000</td></tr><tr><td>dbfs:/FileStore/tables/categories_csv_pipe_options.txt/</td><td>categories_csv_pipe_options.txt/</td><td>0</td><td>1704155634000</td></tr><tr><td>dbfs:/FileStore/tables/categories_json-1.txt</td><td>categories_json-1.txt</td><td>4451</td><td>1703832784000</td></tr><tr><td>dbfs:/FileStore/tables/categories_json-1.txt_parquet/</td><td>categories_json-1.txt_parquet/</td><td>0</td><td>1704137600000</td></tr><tr><td>dbfs:/FileStore/tables/categories_json-1_parquet/</td><td>categories_json-1_parquet/</td><td>0</td><td>1704137126000</td></tr><tr><td>dbfs:/FileStore/tables/categories_json.txt</td><td>categories_json.txt</td><td>4451</td><td>1703832643000</td></tr><tr><td>dbfs:/FileStore/tables/categories_json_parquet/</td><td>categories_json_parquet/</td><td>0</td><td>1704137127000</td></tr><tr><td>dbfs:/FileStore/tables/category.json/</td><td>category.json/</td><td>0</td><td>1704138196000</td></tr><tr><td>dbfs:/FileStore/tables/category.parquet/</td><td>category.parquet/</td><td>0</td><td>1704138287000</td></tr><tr><td>dbfs:/FileStore/tables/category_1.parquet/</td><td>category_1.parquet/</td><td>0</td><td>1704138440000</td></tr><tr><td>dbfs:/FileStore/tables/category_2.parquet/</td><td>category_2.parquet/</td><td>0</td><td>1704138633000</td></tr><tr><td>dbfs:/FileStore/tables/category_csv_pipe/</td><td>category_csv_pipe/</td><td>0</td><td>1704145424000</td></tr><tr><td>dbfs:/FileStore/tables/course_append_mode/</td><td>course_append_mode/</td><td>0</td><td>1704157674000</td></tr><tr><td>dbfs:/FileStore/tables/courses_csv.txt/</td><td>courses_csv.txt/</td><td>0</td><td>1704152956000</td></tr><tr><td>dbfs:/FileStore/tables/courses_csv_coalesce.txt/</td><td>courses_csv_coalesce.txt/</td><td>0</td><td>1704154215000</td></tr><tr><td>dbfs:/FileStore/tables/courses_json_1.txt/</td><td>courses_json_1.txt/</td><td>0</td><td>1704153510000</td></tr><tr><td>dbfs:/FileStore/tables/courses_json_coalesce.txt/</td><td>courses_json_coalesce.txt/</td><td>0</td><td>1704153892000</td></tr><tr><td>dbfs:/FileStore/tables/couses_csv_compress/</td><td>couses_csv_compress/</td><td>0</td><td>1704154738000</td></tr><tr><td>dbfs:/FileStore/tables/couses_csv_snappy_compress/</td><td>couses_csv_snappy_compress/</td><td>0</td><td>1704154866000</td></tr><tr><td>dbfs:/FileStore/tables/couses_parquet/</td><td>couses_parquet/</td><td>0</td><td>1704157104000</td></tr><tr><td>dbfs:/FileStore/tables/customers_csv.txt</td><td>customers_csv.txt</td><td>953719</td><td>1703833325000</td></tr><tr><td>dbfs:/FileStore/tables/customers_json.txt</td><td>customers_json.txt</td><td>3105168</td><td>1703832902000</td></tr><tr><td>dbfs:/FileStore/tables/customers_json_parquet/</td><td>customers_json_parquet/</td><td>0</td><td>1704137128000</td></tr><tr><td>dbfs:/FileStore/tables/departments_csv.txt</td><td>departments_csv.txt</td><td>60</td><td>1703833340000</td></tr><tr><td>dbfs:/FileStore/tables/departments_json.txt</td><td>departments_json.txt</td><td>288</td><td>1703832976000</td></tr><tr><td>dbfs:/FileStore/tables/departments_json_parquet/</td><td>departments_json_parquet/</td><td>0</td><td>1704137129000</td></tr><tr><td>dbfs:/FileStore/tables/order_items_csv.txt</td><td>order_items_csv.txt</td><td>5408880</td><td>1703833367000</td></tr><tr><td>dbfs:/FileStore/tables/order_items_json.txt</td><td>order_items_json.txt</td><td>28655610</td><td>1703833040000</td></tr><tr><td>dbfs:/FileStore/tables/order_items_json_parquet/</td><td>order_items_json_parquet/</td><td>0</td><td>1704137130000</td></tr><tr><td>dbfs:/FileStore/tables/orders.txt</td><td>orders.txt</td><td>2999944</td><td>1702938901000</td></tr><tr><td>dbfs:/FileStore/tables/orders_csv.txt</td><td>orders_csv.txt</td><td>2999944</td><td>1703833384000</td></tr><tr><td>dbfs:/FileStore/tables/orders_json-1.txt</td><td>orders_json-1.txt</td><td>7477339</td><td>1703833135000</td></tr><tr><td>dbfs:/FileStore/tables/orders_json-1_parquet/</td><td>orders_json-1_parquet/</td><td>0</td><td>1704137132000</td></tr><tr><td>dbfs:/FileStore/tables/orders_json.txt</td><td>orders_json.txt</td><td>7477339</td><td>1703833096000</td></tr><tr><td>dbfs:/FileStore/tables/orders_json_parquet/</td><td>orders_json_parquet/</td><td>0</td><td>1704137133000</td></tr><tr><td>dbfs:/FileStore/tables/orders_json_partition_parquet/</td><td>orders_json_partition_parquet/</td><td>0</td><td>1704174811000</td></tr><tr><td>dbfs:/FileStore/tables/part_00000-1.txt</td><td>part_00000-1.txt</td><td>953719</td><td>1703831266000</td></tr><tr><td>dbfs:/FileStore/tables/part_00000-2.txt</td><td>part_00000-2.txt</td><td>60</td><td>1703831335000</td></tr><tr><td>dbfs:/FileStore/tables/part_00000-3.txt</td><td>part_00000-3.txt</td><td>5408880</td><td>1703831401000</td></tr><tr><td>dbfs:/FileStore/tables/part_00000-4.txt</td><td>part_00000-4.txt</td><td>2999944</td><td>1703831455000</td></tr><tr><td>dbfs:/FileStore/tables/part_00000-5.txt</td><td>part_00000-5.txt</td><td>174155</td><td>1703831496000</td></tr><tr><td>dbfs:/FileStore/tables/part_00000.txt</td><td>part_00000.txt</td><td>1029</td><td>1703831145000</td></tr><tr><td>dbfs:/FileStore/tables/part_r_00000_158b7037_4a23_47e6_8cb3_8cbf878beff7.txt</td><td>part_r_00000_158b7037_4a23_47e6_8cb3_8cbf878beff7.txt</td><td>324978</td><td>1703829098000</td></tr><tr><td>dbfs:/FileStore/tables/part_r_00000_3db7cfae_3ad2_4fc7_88ff_afe0ec709f49.txt</td><td>part_r_00000_3db7cfae_3ad2_4fc7_88ff_afe0ec709f49.txt</td><td>288</td><td>1703828896000</td></tr><tr><td>dbfs:/FileStore/tables/part_r_00000_6b83977e_3f20_404b_9b5f_29376ab1419e.txt</td><td>part_r_00000_6b83977e_3f20_404b_9b5f_29376ab1419e.txt</td><td>28655610</td><td>1703828979000</td></tr><tr><td>dbfs:/FileStore/tables/part_r_00000_70554560_527b_44f6_9e80_4e2031af5994.txt</td><td>part_r_00000_70554560_527b_44f6_9e80_4e2031af5994.txt</td><td>3105168</td><td>1703828798000</td></tr><tr><td>dbfs:/FileStore/tables/part_r_00000_990f5773_9005_49ba_b670_631286032674.txt</td><td>part_r_00000_990f5773_9005_49ba_b670_631286032674.txt</td><td>7477339</td><td>1703829052000</td></tr><tr><td>dbfs:/FileStore/tables/part_r_00000_ce1d8208_178d_48d3_bfb2_1a97d9c05094-1.txt</td><td>part_r_00000_ce1d8208_178d_48d3_bfb2_1a97d9c05094-1.txt</td><td>4451</td><td>1703830465000</td></tr><tr><td>dbfs:/FileStore/tables/part_r_00000_ce1d8208_178d_48d3_bfb2_1a97d9c05094.txt</td><td>part_r_00000_ce1d8208_178d_48d3_bfb2_1a97d9c05094.txt</td><td>4451</td><td>1703828559000</td></tr><tr><td>dbfs:/FileStore/tables/products_csv.txt</td><td>products_csv.txt</td><td>174155</td><td>1703833407000</td></tr></tbody></table></div>"
      ]
     },
     "metadata": {
      "application/vnd.databricks.v1+output": {
       "addedWidgets": {},
       "aggData": [],
       "aggError": "",
       "aggOverflow": false,
       "aggSchema": [],
       "aggSeriesLimitReached": false,
       "aggType": "",
       "arguments": {},
       "columnCustomDisplayInfos": {},
       "data": [
        [
         "dbfs:/FileStore/tables/HR_Employee.csv",
         "HR_Employee.csv",
         227977,
         1704495271000
        ],
        [
         "dbfs:/FileStore/tables/asa_airline/",
         "asa_airline/",
         0,
         1704175613000
        ],
        [
         "dbfs:/FileStore/tables/categories_csv.txt",
         "categories_csv.txt",
         1029,
         1703833197000
        ],
        [
         "dbfs:/FileStore/tables/categories_csv_json.txt/",
         "categories_csv_json.txt/",
         0,
         1704156061000
        ],
        [
         "dbfs:/FileStore/tables/categories_csv_pipe.txt/",
         "categories_csv_pipe.txt/",
         0,
         1704155072000
        ],
        [
         "dbfs:/FileStore/tables/categories_csv_pipe_options.txt/",
         "categories_csv_pipe_options.txt/",
         0,
         1704155634000
        ],
        [
         "dbfs:/FileStore/tables/categories_json-1.txt",
         "categories_json-1.txt",
         4451,
         1703832784000
        ],
        [
         "dbfs:/FileStore/tables/categories_json-1.txt_parquet/",
         "categories_json-1.txt_parquet/",
         0,
         1704137600000
        ],
        [
         "dbfs:/FileStore/tables/categories_json-1_parquet/",
         "categories_json-1_parquet/",
         0,
         1704137126000
        ],
        [
         "dbfs:/FileStore/tables/categories_json.txt",
         "categories_json.txt",
         4451,
         1703832643000
        ],
        [
         "dbfs:/FileStore/tables/categories_json_parquet/",
         "categories_json_parquet/",
         0,
         1704137127000
        ],
        [
         "dbfs:/FileStore/tables/category.json/",
         "category.json/",
         0,
         1704138196000
        ],
        [
         "dbfs:/FileStore/tables/category.parquet/",
         "category.parquet/",
         0,
         1704138287000
        ],
        [
         "dbfs:/FileStore/tables/category_1.parquet/",
         "category_1.parquet/",
         0,
         1704138440000
        ],
        [
         "dbfs:/FileStore/tables/category_2.parquet/",
         "category_2.parquet/",
         0,
         1704138633000
        ],
        [
         "dbfs:/FileStore/tables/category_csv_pipe/",
         "category_csv_pipe/",
         0,
         1704145424000
        ],
        [
         "dbfs:/FileStore/tables/course_append_mode/",
         "course_append_mode/",
         0,
         1704157674000
        ],
        [
         "dbfs:/FileStore/tables/courses_csv.txt/",
         "courses_csv.txt/",
         0,
         1704152956000
        ],
        [
         "dbfs:/FileStore/tables/courses_csv_coalesce.txt/",
         "courses_csv_coalesce.txt/",
         0,
         1704154215000
        ],
        [
         "dbfs:/FileStore/tables/courses_json_1.txt/",
         "courses_json_1.txt/",
         0,
         1704153510000
        ],
        [
         "dbfs:/FileStore/tables/courses_json_coalesce.txt/",
         "courses_json_coalesce.txt/",
         0,
         1704153892000
        ],
        [
         "dbfs:/FileStore/tables/couses_csv_compress/",
         "couses_csv_compress/",
         0,
         1704154738000
        ],
        [
         "dbfs:/FileStore/tables/couses_csv_snappy_compress/",
         "couses_csv_snappy_compress/",
         0,
         1704154866000
        ],
        [
         "dbfs:/FileStore/tables/couses_parquet/",
         "couses_parquet/",
         0,
         1704157104000
        ],
        [
         "dbfs:/FileStore/tables/customers_csv.txt",
         "customers_csv.txt",
         953719,
         1703833325000
        ],
        [
         "dbfs:/FileStore/tables/customers_json.txt",
         "customers_json.txt",
         3105168,
         1703832902000
        ],
        [
         "dbfs:/FileStore/tables/customers_json_parquet/",
         "customers_json_parquet/",
         0,
         1704137128000
        ],
        [
         "dbfs:/FileStore/tables/departments_csv.txt",
         "departments_csv.txt",
         60,
         1703833340000
        ],
        [
         "dbfs:/FileStore/tables/departments_json.txt",
         "departments_json.txt",
         288,
         1703832976000
        ],
        [
         "dbfs:/FileStore/tables/departments_json_parquet/",
         "departments_json_parquet/",
         0,
         1704137129000
        ],
        [
         "dbfs:/FileStore/tables/order_items_csv.txt",
         "order_items_csv.txt",
         5408880,
         1703833367000
        ],
        [
         "dbfs:/FileStore/tables/order_items_json.txt",
         "order_items_json.txt",
         28655610,
         1703833040000
        ],
        [
         "dbfs:/FileStore/tables/order_items_json_parquet/",
         "order_items_json_parquet/",
         0,
         1704137130000
        ],
        [
         "dbfs:/FileStore/tables/orders.txt",
         "orders.txt",
         2999944,
         1702938901000
        ],
        [
         "dbfs:/FileStore/tables/orders_csv.txt",
         "orders_csv.txt",
         2999944,
         1703833384000
        ],
        [
         "dbfs:/FileStore/tables/orders_json-1.txt",
         "orders_json-1.txt",
         7477339,
         1703833135000
        ],
        [
         "dbfs:/FileStore/tables/orders_json-1_parquet/",
         "orders_json-1_parquet/",
         0,
         1704137132000
        ],
        [
         "dbfs:/FileStore/tables/orders_json.txt",
         "orders_json.txt",
         7477339,
         1703833096000
        ],
        [
         "dbfs:/FileStore/tables/orders_json_parquet/",
         "orders_json_parquet/",
         0,
         1704137133000
        ],
        [
         "dbfs:/FileStore/tables/orders_json_partition_parquet/",
         "orders_json_partition_parquet/",
         0,
         1704174811000
        ],
        [
         "dbfs:/FileStore/tables/part_00000-1.txt",
         "part_00000-1.txt",
         953719,
         1703831266000
        ],
        [
         "dbfs:/FileStore/tables/part_00000-2.txt",
         "part_00000-2.txt",
         60,
         1703831335000
        ],
        [
         "dbfs:/FileStore/tables/part_00000-3.txt",
         "part_00000-3.txt",
         5408880,
         1703831401000
        ],
        [
         "dbfs:/FileStore/tables/part_00000-4.txt",
         "part_00000-4.txt",
         2999944,
         1703831455000
        ],
        [
         "dbfs:/FileStore/tables/part_00000-5.txt",
         "part_00000-5.txt",
         174155,
         1703831496000
        ],
        [
         "dbfs:/FileStore/tables/part_00000.txt",
         "part_00000.txt",
         1029,
         1703831145000
        ],
        [
         "dbfs:/FileStore/tables/part_r_00000_158b7037_4a23_47e6_8cb3_8cbf878beff7.txt",
         "part_r_00000_158b7037_4a23_47e6_8cb3_8cbf878beff7.txt",
         324978,
         1703829098000
        ],
        [
         "dbfs:/FileStore/tables/part_r_00000_3db7cfae_3ad2_4fc7_88ff_afe0ec709f49.txt",
         "part_r_00000_3db7cfae_3ad2_4fc7_88ff_afe0ec709f49.txt",
         288,
         1703828896000
        ],
        [
         "dbfs:/FileStore/tables/part_r_00000_6b83977e_3f20_404b_9b5f_29376ab1419e.txt",
         "part_r_00000_6b83977e_3f20_404b_9b5f_29376ab1419e.txt",
         28655610,
         1703828979000
        ],
        [
         "dbfs:/FileStore/tables/part_r_00000_70554560_527b_44f6_9e80_4e2031af5994.txt",
         "part_r_00000_70554560_527b_44f6_9e80_4e2031af5994.txt",
         3105168,
         1703828798000
        ],
        [
         "dbfs:/FileStore/tables/part_r_00000_990f5773_9005_49ba_b670_631286032674.txt",
         "part_r_00000_990f5773_9005_49ba_b670_631286032674.txt",
         7477339,
         1703829052000
        ],
        [
         "dbfs:/FileStore/tables/part_r_00000_ce1d8208_178d_48d3_bfb2_1a97d9c05094-1.txt",
         "part_r_00000_ce1d8208_178d_48d3_bfb2_1a97d9c05094-1.txt",
         4451,
         1703830465000
        ],
        [
         "dbfs:/FileStore/tables/part_r_00000_ce1d8208_178d_48d3_bfb2_1a97d9c05094.txt",
         "part_r_00000_ce1d8208_178d_48d3_bfb2_1a97d9c05094.txt",
         4451,
         1703828559000
        ],
        [
         "dbfs:/FileStore/tables/products_csv.txt",
         "products_csv.txt",
         174155,
         1703833407000
        ]
       ],
       "datasetInfos": [],
       "dbfsResultPath": null,
       "isJsonSchema": true,
       "metadata": {
        "isDbfsCommandResult": false
       },
       "overflow": false,
       "plotOptions": {
        "customPlotOptions": {},
        "displayType": "table",
        "pivotAggregation": null,
        "pivotColumns": null,
        "xColumns": null,
        "yColumns": null
       },
       "removedWidgets": [],
       "schema": [
        {
         "metadata": "{}",
         "name": "path",
         "type": "\"string\""
        },
        {
         "metadata": "{}",
         "name": "name",
         "type": "\"string\""
        },
        {
         "metadata": "{}",
         "name": "size",
         "type": "\"long\""
        },
        {
         "metadata": "{}",
         "name": "modificationTime",
         "type": "\"long\""
        }
       ],
       "type": "table"
      }
     },
     "output_type": "display_data"
    }
   ],
   "source": [
    "%fs ls /FileStore/tables"
   ]
  },
  {
   "cell_type": "code",
   "execution_count": 0,
   "metadata": {
    "application/vnd.databricks.v1+cell": {
     "cellMetadata": {
      "byteLimit": 2048000,
      "rowLimit": 10000
     },
     "inputWidgets": {},
     "nuid": "57df9211-474e-4c20-aca0-f4e85dc978ba",
     "showTitle": false,
     "title": ""
    }
   },
   "outputs": [
    {
     "output_type": "display_data",
     "data": {
      "text/html": [
       "<style scoped>\n",
       "  .ansiout {\n",
       "    display: block;\n",
       "    unicode-bidi: embed;\n",
       "    white-space: pre-wrap;\n",
       "    word-wrap: break-word;\n",
       "    word-break: break-all;\n",
       "    font-family: \"Menlo\", \"Monaco\", \"Consolas\", \"Ubuntu Mono\", \"Source Code Pro\", monospace;\n",
       "    font-size: 13px;\n",
       "    color: #555;\n",
       "    margin-left: 4px;\n",
       "    line-height: 19px;\n",
       "  }\n",
       "</style>\n",
       "<div class=\"ansiout\">res1: Boolean = true\n",
       "</div>"
      ]
     },
     "metadata": {
      "application/vnd.databricks.v1+output": {
       "addedWidgets": {},
       "arguments": {},
       "data": "<div class=\"ansiout\">res1: Boolean = true\n</div>",
       "datasetInfos": [],
       "metadata": {
        "isDbfsCommandResult": false
       },
       "removedWidgets": [],
       "type": "html"
      }
     },
     "output_type": "display_data"
    }
   ],
   "source": [
    "%fs rm  dbfs:/FileStore/tables/WA_Fn_UseC__HR_Employee_Attrition-1.csv"
   ]
  },
  {
   "cell_type": "code",
   "execution_count": 0,
   "metadata": {
    "application/vnd.databricks.v1+cell": {
     "cellMetadata": {
      "byteLimit": 2048000,
      "rowLimit": 10000
     },
     "inputWidgets": {},
     "nuid": "b40db31c-a808-4d4d-a844-7d2b57b71d00",
     "showTitle": false,
     "title": ""
    }
   },
   "outputs": [],
   "source": [
    "%python\n",
    "HrDF=spark.read.csv('dbfs:/FileStore/tables/HR_Employee.csv',sep=',',header=True)"
   ]
  },
  {
   "cell_type": "code",
   "execution_count": 0,
   "metadata": {
    "application/vnd.databricks.v1+cell": {
     "cellMetadata": {
      "byteLimit": 2048000,
      "rowLimit": 10000
     },
     "inputWidgets": {},
     "nuid": "b86e2166-e512-416a-a3b3-52b549f35fd6",
     "showTitle": false,
     "title": ""
    }
   },
   "outputs": [
    {
     "output_type": "execute_result",
     "data": {
      "text/plain": [
       "[('Age', 'string'),\n",
       " ('Attrition', 'string'),\n",
       " ('BusinessTravel', 'string'),\n",
       " ('DailyRate', 'string'),\n",
       " ('Department', 'string'),\n",
       " ('DistanceFromHome', 'string'),\n",
       " ('Education', 'string'),\n",
       " ('EducationField', 'string'),\n",
       " ('EmployeeCount', 'string'),\n",
       " ('EmployeeNumber', 'string'),\n",
       " ('EnvironmentSatisfaction', 'string'),\n",
       " ('Gender', 'string'),\n",
       " ('HourlyRate', 'string'),\n",
       " ('JobInvolvement', 'string'),\n",
       " ('JobLevel', 'string'),\n",
       " ('JobRole', 'string'),\n",
       " ('JobSatisfaction', 'string'),\n",
       " ('MaritalStatus', 'string'),\n",
       " ('MonthlyIncome', 'string'),\n",
       " ('MonthlyRate', 'string'),\n",
       " ('NumCompaniesWorked', 'string'),\n",
       " ('Over18', 'string'),\n",
       " ('OverTime', 'string'),\n",
       " ('PercentSalaryHike', 'string'),\n",
       " ('PerformanceRating', 'string'),\n",
       " ('RelationshipSatisfaction', 'string'),\n",
       " ('StandardHours', 'string'),\n",
       " ('StockOptionLevel', 'string'),\n",
       " ('TotalWorkingYears', 'string'),\n",
       " ('TrainingTimesLastYear', 'string'),\n",
       " ('WorkLifeBalance', 'string'),\n",
       " ('YearsAtCompany', 'string'),\n",
       " ('YearsInCurrentRole', 'string'),\n",
       " ('YearsSinceLastPromotion', 'string'),\n",
       " ('YearsWithCurrManager', 'string')]"
      ]
     },
     "execution_count": 9,
     "metadata": {},
     "output_type": "execute_result"
    }
   ],
   "source": [
    "HrDF.dtypes"
   ]
  },
  {
   "cell_type": "code",
   "execution_count": 0,
   "metadata": {
    "application/vnd.databricks.v1+cell": {
     "cellMetadata": {
      "byteLimit": 2048000,
      "rowLimit": 10000
     },
     "inputWidgets": {},
     "nuid": "15d1b5a9-8071-46c3-9cce-53d6082f3fb4",
     "showTitle": false,
     "title": ""
    }
   },
   "outputs": [
    {
     "output_type": "stream",
     "name": "stdout",
     "output_type": "stream",
     "text": [
      "+---+---------+-----------------+---------+--------------------+----------------+---------+--------------+-------------+--------------+-----------------------+------+----------+--------------+--------+--------------------+---------------+-------------+-------------+-----------+------------------+------+--------+-----------------+-----------------+------------------------+-------------+----------------+-----------------+---------------------+---------------+--------------+------------------+-----------------------+--------------------+\n|Age|Attrition|   BusinessTravel|DailyRate|          Department|DistanceFromHome|Education|EducationField|EmployeeCount|EmployeeNumber|EnvironmentSatisfaction|Gender|HourlyRate|JobInvolvement|JobLevel|             JobRole|JobSatisfaction|MaritalStatus|MonthlyIncome|MonthlyRate|NumCompaniesWorked|Over18|OverTime|PercentSalaryHike|PerformanceRating|RelationshipSatisfaction|StandardHours|StockOptionLevel|TotalWorkingYears|TrainingTimesLastYear|WorkLifeBalance|YearsAtCompany|YearsInCurrentRole|YearsSinceLastPromotion|YearsWithCurrManager|\n+---+---------+-----------------+---------+--------------------+----------------+---------+--------------+-------------+--------------+-----------------------+------+----------+--------------+--------+--------------------+---------------+-------------+-------------+-----------+------------------+------+--------+-----------------+-----------------+------------------------+-------------+----------------+-----------------+---------------------+---------------+--------------+------------------+-----------------------+--------------------+\n| 41|      Yes|    Travel_Rarely|     1102|               Sales|               1|        2| Life Sciences|            1|             1|                      2|Female|        94|             3|       2|     Sales Executive|              4|       Single|         5993|      19479|                 8|     Y|     Yes|               11|                3|                       1|           80|               0|                8|                    0|              1|             6|                 4|                      0|                   5|\n| 49|       No|Travel_Frequently|      279|Research & Develo...|               8|        1| Life Sciences|            1|             2|                      3|  Male|        61|             2|       2|  Research Scientist|              2|      Married|         5130|      24907|                 1|     Y|      No|               23|                4|                       4|           80|               1|               10|                    3|              3|            10|                 7|                      1|                   7|\n| 37|      Yes|    Travel_Rarely|     1373|Research & Develo...|               2|        2|         Other|            1|             4|                      4|  Male|        92|             2|       1|Laboratory Techni...|              3|       Single|         2090|       2396|                 6|     Y|     Yes|               15|                3|                       2|           80|               0|                7|                    3|              3|             0|                 0|                      0|                   0|\n| 33|       No|Travel_Frequently|     1392|Research & Develo...|               3|        4| Life Sciences|            1|             5|                      4|Female|        56|             3|       1|  Research Scientist|              3|      Married|         2909|      23159|                 1|     Y|     Yes|               11|                3|                       3|           80|               0|                8|                    3|              3|             8|                 7|                      3|                   0|\n| 27|       No|    Travel_Rarely|      591|Research & Develo...|               2|        1|       Medical|            1|             7|                      1|  Male|        40|             3|       1|Laboratory Techni...|              2|      Married|         3468|      16632|                 9|     Y|      No|               12|                3|                       4|           80|               1|                6|                    3|              3|             2|                 2|                      2|                   2|\n| 32|       No|Travel_Frequently|     1005|Research & Develo...|               2|        2| Life Sciences|            1|             8|                      4|  Male|        79|             3|       1|Laboratory Techni...|              4|       Single|         3068|      11864|                 0|     Y|      No|               13|                3|                       3|           80|               0|                8|                    2|              2|             7|                 7|                      3|                   6|\n| 59|       No|    Travel_Rarely|     1324|Research & Develo...|               3|        3|       Medical|            1|            10|                      3|Female|        81|             4|       1|Laboratory Techni...|              1|      Married|         2670|       9964|                 4|     Y|     Yes|               20|                4|                       1|           80|               3|               12|                    3|              2|             1|                 0|                      0|                   0|\n| 30|       No|    Travel_Rarely|     1358|Research & Develo...|              24|        1| Life Sciences|            1|            11|                      4|  Male|        67|             3|       1|Laboratory Techni...|              3|     Divorced|         2693|      13335|                 1|     Y|      No|               22|                4|                       2|           80|               1|                1|                    2|              3|             1|                 0|                      0|                   0|\n| 38|       No|Travel_Frequently|      216|Research & Develo...|              23|        3| Life Sciences|            1|            12|                      4|  Male|        44|             2|       3|Manufacturing Dir...|              3|       Single|         9526|       8787|                 0|     Y|      No|               21|                4|                       2|           80|               0|               10|                    2|              3|             9|                 7|                      1|                   8|\n| 36|       No|    Travel_Rarely|     1299|Research & Develo...|              27|        3|       Medical|            1|            13|                      3|  Male|        94|             3|       2|Healthcare Repres...|              3|      Married|         5237|      16577|                 6|     Y|      No|               13|                3|                       2|           80|               2|               17|                    3|              2|             7|                 7|                      7|                   7|\n| 35|       No|    Travel_Rarely|      809|Research & Develo...|              16|        3|       Medical|            1|            14|                      1|  Male|        84|             4|       1|Laboratory Techni...|              2|      Married|         2426|      16479|                 0|     Y|      No|               13|                3|                       3|           80|               1|                6|                    5|              3|             5|                 4|                      0|                   3|\n| 29|       No|    Travel_Rarely|      153|Research & Develo...|              15|        2| Life Sciences|            1|            15|                      4|Female|        49|             2|       2|Laboratory Techni...|              3|       Single|         4193|      12682|                 0|     Y|     Yes|               12|                3|                       4|           80|               0|               10|                    3|              3|             9|                 5|                      0|                   8|\n| 31|       No|    Travel_Rarely|      670|Research & Develo...|              26|        1| Life Sciences|            1|            16|                      1|  Male|        31|             3|       1|  Research Scientist|              3|     Divorced|         2911|      15170|                 1|     Y|      No|               17|                3|                       4|           80|               1|                5|                    1|              2|             5|                 2|                      4|                   3|\n| 34|       No|    Travel_Rarely|     1346|Research & Develo...|              19|        2|       Medical|            1|            18|                      2|  Male|        93|             3|       1|Laboratory Techni...|              4|     Divorced|         2661|       8758|                 0|     Y|      No|               11|                3|                       3|           80|               1|                3|                    2|              3|             2|                 2|                      1|                   2|\n| 28|      Yes|    Travel_Rarely|      103|Research & Develo...|              24|        3| Life Sciences|            1|            19|                      3|  Male|        50|             2|       1|Laboratory Techni...|              3|       Single|         2028|      12947|                 5|     Y|     Yes|               14|                3|                       2|           80|               0|                6|                    4|              3|             4|                 2|                      0|                   3|\n| 29|       No|    Travel_Rarely|     1389|Research & Develo...|              21|        4| Life Sciences|            1|            20|                      2|Female|        51|             4|       3|Manufacturing Dir...|              1|     Divorced|         9980|      10195|                 1|     Y|      No|               11|                3|                       3|           80|               1|               10|                    1|              3|            10|                 9|                      8|                   8|\n| 32|       No|    Travel_Rarely|      334|Research & Develo...|               5|        2| Life Sciences|            1|            21|                      1|  Male|        80|             4|       1|  Research Scientist|              2|     Divorced|         3298|      15053|                 0|     Y|     Yes|               12|                3|                       4|           80|               2|                7|                    5|              2|             6|                 2|                      0|                   5|\n| 22|       No|       Non-Travel|     1123|Research & Develo...|              16|        2|       Medical|            1|            22|                      4|  Male|        96|             4|       1|Laboratory Techni...|              4|     Divorced|         2935|       7324|                 1|     Y|     Yes|               13|                3|                       2|           80|               2|                1|                    2|              2|             1|                 0|                      0|                   0|\n| 53|       No|    Travel_Rarely|     1219|               Sales|               2|        4| Life Sciences|            1|            23|                      1|Female|        78|             2|       4|             Manager|              4|      Married|        15427|      22021|                 2|     Y|      No|               16|                3|                       3|           80|               0|               31|                    3|              3|            25|                 8|                      3|                   7|\n| 38|       No|    Travel_Rarely|      371|Research & Develo...|               2|        3| Life Sciences|            1|            24|                      4|  Male|        45|             3|       1|  Research Scientist|              4|       Single|         3944|       4306|                 5|     Y|     Yes|               11|                3|                       3|           80|               0|                6|                    3|              3|             3|                 2|                      1|                   2|\n+---+---------+-----------------+---------+--------------------+----------------+---------+--------------+-------------+--------------+-----------------------+------+----------+--------------+--------+--------------------+---------------+-------------+-------------+-----------+------------------+------+--------+-----------------+-----------------+------------------------+-------------+----------------+-----------------+---------------------+---------------+--------------+------------------+-----------------------+--------------------+\nonly showing top 20 rows\n\n"
     ]
    }
   ],
   "source": [
    "HrDF.show()"
   ]
  },
  {
   "cell_type": "code",
   "execution_count": 0,
   "metadata": {
    "application/vnd.databricks.v1+cell": {
     "cellMetadata": {
      "byteLimit": 2048000,
      "rowLimit": 10000
     },
     "inputWidgets": {},
     "nuid": "a2c19b15-a537-43d2-a170-342c336f5106",
     "showTitle": false,
     "title": ""
    }
   },
   "outputs": [
    {
     "output_type": "stream",
     "name": "stdout",
     "output_type": "stream",
     "text": [
      "+---+---------+-----------------+---------+--------------------+----------------+---------+--------------+-------------+--------------+-----------------------+------+----------+--------------+--------+--------------------+---------------+-------------+-------------+-----------+------------------+------+--------+-----------------+-----------------+------------------------+-------------+----------------+-----------------+---------------------+---------------+--------------+------------------+-----------------------+--------------------+\n|Age|Attrition|   BusinessTravel|DailyRate|          Department|DistanceFromHome|Education|EducationField|EmployeeCount|EmployeeNumber|EnvironmentSatisfaction|Gender|HourlyRate|JobInvolvement|JobLevel|             JobRole|JobSatisfaction|MaritalStatus|MonthlyIncome|MonthlyRate|NumCompaniesWorked|Over18|OverTime|PercentSalaryHike|PerformanceRating|RelationshipSatisfaction|StandardHours|StockOptionLevel|TotalWorkingYears|TrainingTimesLastYear|WorkLifeBalance|YearsAtCompany|YearsInCurrentRole|YearsSinceLastPromotion|YearsWithCurrManager|\n+---+---------+-----------------+---------+--------------------+----------------+---------+--------------+-------------+--------------+-----------------------+------+----------+--------------+--------+--------------------+---------------+-------------+-------------+-----------+------------------+------+--------+-----------------+-----------------+------------------------+-------------+----------------+-----------------+---------------------+---------------+--------------+------------------+-----------------------+--------------------+\n| 41|      Yes|    Travel_Rarely|     1102|               Sales|               1|        2| Life Sciences|            1|             1|                      2|Female|        94|             3|       2|     Sales Executive|              4|       Single|         5993|      19479|                 8|     Y|     Yes|               11|                3|                       1|           80|               0|                8|                    0|              1|             6|                 4|                      0|                   5|\n| 49|       No|Travel_Frequently|      279|Research & Develo...|               8|        1| Life Sciences|            1|             2|                      3|  Male|        61|             2|       2|  Research Scientist|              2|      Married|         5130|      24907|                 1|     Y|      No|               23|                4|                       4|           80|               1|               10|                    3|              3|            10|                 7|                      1|                   7|\n| 37|      Yes|    Travel_Rarely|     1373|Research & Develo...|               2|        2|         Other|            1|             4|                      4|  Male|        92|             2|       1|Laboratory Techni...|              3|       Single|         2090|       2396|                 6|     Y|     Yes|               15|                3|                       2|           80|               0|                7|                    3|              3|             0|                 0|                      0|                   0|\n| 33|       No|Travel_Frequently|     1392|Research & Develo...|               3|        4| Life Sciences|            1|             5|                      4|Female|        56|             3|       1|  Research Scientist|              3|      Married|         2909|      23159|                 1|     Y|     Yes|               11|                3|                       3|           80|               0|                8|                    3|              3|             8|                 7|                      3|                   0|\n| 27|       No|    Travel_Rarely|      591|Research & Develo...|               2|        1|       Medical|            1|             7|                      1|  Male|        40|             3|       1|Laboratory Techni...|              2|      Married|         3468|      16632|                 9|     Y|      No|               12|                3|                       4|           80|               1|                6|                    3|              3|             2|                 2|                      2|                   2|\n| 32|       No|Travel_Frequently|     1005|Research & Develo...|               2|        2| Life Sciences|            1|             8|                      4|  Male|        79|             3|       1|Laboratory Techni...|              4|       Single|         3068|      11864|                 0|     Y|      No|               13|                3|                       3|           80|               0|                8|                    2|              2|             7|                 7|                      3|                   6|\n| 59|       No|    Travel_Rarely|     1324|Research & Develo...|               3|        3|       Medical|            1|            10|                      3|Female|        81|             4|       1|Laboratory Techni...|              1|      Married|         2670|       9964|                 4|     Y|     Yes|               20|                4|                       1|           80|               3|               12|                    3|              2|             1|                 0|                      0|                   0|\n| 30|       No|    Travel_Rarely|     1358|Research & Develo...|              24|        1| Life Sciences|            1|            11|                      4|  Male|        67|             3|       1|Laboratory Techni...|              3|     Divorced|         2693|      13335|                 1|     Y|      No|               22|                4|                       2|           80|               1|                1|                    2|              3|             1|                 0|                      0|                   0|\n| 38|       No|Travel_Frequently|      216|Research & Develo...|              23|        3| Life Sciences|            1|            12|                      4|  Male|        44|             2|       3|Manufacturing Dir...|              3|       Single|         9526|       8787|                 0|     Y|      No|               21|                4|                       2|           80|               0|               10|                    2|              3|             9|                 7|                      1|                   8|\n| 36|       No|    Travel_Rarely|     1299|Research & Develo...|              27|        3|       Medical|            1|            13|                      3|  Male|        94|             3|       2|Healthcare Repres...|              3|      Married|         5237|      16577|                 6|     Y|      No|               13|                3|                       2|           80|               2|               17|                    3|              2|             7|                 7|                      7|                   7|\n| 35|       No|    Travel_Rarely|      809|Research & Develo...|              16|        3|       Medical|            1|            14|                      1|  Male|        84|             4|       1|Laboratory Techni...|              2|      Married|         2426|      16479|                 0|     Y|      No|               13|                3|                       3|           80|               1|                6|                    5|              3|             5|                 4|                      0|                   3|\n| 29|       No|    Travel_Rarely|      153|Research & Develo...|              15|        2| Life Sciences|            1|            15|                      4|Female|        49|             2|       2|Laboratory Techni...|              3|       Single|         4193|      12682|                 0|     Y|     Yes|               12|                3|                       4|           80|               0|               10|                    3|              3|             9|                 5|                      0|                   8|\n| 31|       No|    Travel_Rarely|      670|Research & Develo...|              26|        1| Life Sciences|            1|            16|                      1|  Male|        31|             3|       1|  Research Scientist|              3|     Divorced|         2911|      15170|                 1|     Y|      No|               17|                3|                       4|           80|               1|                5|                    1|              2|             5|                 2|                      4|                   3|\n| 34|       No|    Travel_Rarely|     1346|Research & Develo...|              19|        2|       Medical|            1|            18|                      2|  Male|        93|             3|       1|Laboratory Techni...|              4|     Divorced|         2661|       8758|                 0|     Y|      No|               11|                3|                       3|           80|               1|                3|                    2|              3|             2|                 2|                      1|                   2|\n| 28|      Yes|    Travel_Rarely|      103|Research & Develo...|              24|        3| Life Sciences|            1|            19|                      3|  Male|        50|             2|       1|Laboratory Techni...|              3|       Single|         2028|      12947|                 5|     Y|     Yes|               14|                3|                       2|           80|               0|                6|                    4|              3|             4|                 2|                      0|                   3|\n| 29|       No|    Travel_Rarely|     1389|Research & Develo...|              21|        4| Life Sciences|            1|            20|                      2|Female|        51|             4|       3|Manufacturing Dir...|              1|     Divorced|         9980|      10195|                 1|     Y|      No|               11|                3|                       3|           80|               1|               10|                    1|              3|            10|                 9|                      8|                   8|\n| 32|       No|    Travel_Rarely|      334|Research & Develo...|               5|        2| Life Sciences|            1|            21|                      1|  Male|        80|             4|       1|  Research Scientist|              2|     Divorced|         3298|      15053|                 0|     Y|     Yes|               12|                3|                       4|           80|               2|                7|                    5|              2|             6|                 2|                      0|                   5|\n| 22|       No|       Non-Travel|     1123|Research & Develo...|              16|        2|       Medical|            1|            22|                      4|  Male|        96|             4|       1|Laboratory Techni...|              4|     Divorced|         2935|       7324|                 1|     Y|     Yes|               13|                3|                       2|           80|               2|                1|                    2|              2|             1|                 0|                      0|                   0|\n| 53|       No|    Travel_Rarely|     1219|               Sales|               2|        4| Life Sciences|            1|            23|                      1|Female|        78|             2|       4|             Manager|              4|      Married|        15427|      22021|                 2|     Y|      No|               16|                3|                       3|           80|               0|               31|                    3|              3|            25|                 8|                      3|                   7|\n| 38|       No|    Travel_Rarely|      371|Research & Develo...|               2|        3| Life Sciences|            1|            24|                      4|  Male|        45|             3|       1|  Research Scientist|              4|       Single|         3944|       4306|                 5|     Y|     Yes|               11|                3|                       3|           80|               0|                6|                    3|              3|             3|                 2|                      1|                   2|\n+---+---------+-----------------+---------+--------------------+----------------+---------+--------------+-------------+--------------+-----------------------+------+----------+--------------+--------+--------------------+---------------+-------------+-------------+-----------+------------------+------+--------+-----------------+-----------------+------------------------+-------------+----------------+-----------------+---------------------+---------------+--------------+------------------+-----------------------+--------------------+\nonly showing top 20 rows\n\n"
     ]
    }
   ],
   "source": [
    "HrDF.select('*').show()"
   ]
  },
  {
   "cell_type": "code",
   "execution_count": 0,
   "metadata": {
    "application/vnd.databricks.v1+cell": {
     "cellMetadata": {
      "byteLimit": 2048000,
      "rowLimit": 10000
     },
     "inputWidgets": {},
     "nuid": "9cf74caa-31e3-4847-baa8-c7d75b58ea6b",
     "showTitle": false,
     "title": ""
    }
   },
   "outputs": [
    {
     "output_type": "display_data",
     "data": {
      "text/html": [
       "<style scoped>\n",
       "  .table-result-container {\n",
       "    max-height: 300px;\n",
       "    overflow: auto;\n",
       "  }\n",
       "  table, th, td {\n",
       "    border: 1px solid black;\n",
       "    border-collapse: collapse;\n",
       "  }\n",
       "  th, td {\n",
       "    padding: 5px;\n",
       "  }\n",
       "  th {\n",
       "    text-align: left;\n",
       "  }\n",
       "</style><div class='table-result-container'><table class='table-result'><thead style='background-color: white'><tr><th>age_group</th><th>Employee Count</th></tr></thead><tbody><tr><td>20-25</td><td>34</td></tr><tr><td>33-40</td><td>56</td></tr><tr><td>26-32</td><td>85</td></tr><tr><td>40+</td><td>62</td></tr></tbody></table></div>"
      ]
     },
     "metadata": {
      "application/vnd.databricks.v1+output": {
       "addedWidgets": {},
       "aggData": [],
       "aggError": "",
       "aggOverflow": false,
       "aggSchema": [],
       "aggSeriesLimitReached": false,
       "aggType": "",
       "arguments": {},
       "columnCustomDisplayInfos": {},
       "data": [
        [
         "20-25",
         34
        ],
        [
         "33-40",
         56
        ],
        [
         "26-32",
         85
        ],
        [
         "40+",
         62
        ]
       ],
       "datasetInfos": [],
       "dbfsResultPath": null,
       "isJsonSchema": true,
       "metadata": {},
       "overflow": false,
       "plotOptions": {
        "customPlotOptions": {},
        "displayType": "table",
        "pivotAggregation": null,
        "pivotColumns": null,
        "xColumns": null,
        "yColumns": null
       },
       "removedWidgets": [],
       "schema": [
        {
         "metadata": "{}",
         "name": "age_group",
         "type": "\"string\""
        },
        {
         "metadata": "{}",
         "name": "Employee Count",
         "type": "\"long\""
        }
       ],
       "type": "table"
      }
     },
     "output_type": "display_data"
    },
    {
     "output_type": "display_data",
     "data": {
      "text/plain": [
       "Databricks visualization. Run in Databricks to view."
      ]
     },
     "metadata": {
      "application/vnd.databricks.v1.subcommand+json": {
       "bindings": {},
       "collapsed": false,
       "command": "%python\n__backend_agg_display_orig = display\n__backend_agg_dfs = []\ndef __backend_agg_display_new(df):\n    __backend_agg_df_modules = [\"pandas.core.frame\", \"databricks.koalas.frame\", \"pyspark.sql.dataframe\", \"pyspark.pandas.frame\", \"pyspark.sql.connect.dataframe\"]\n    if (type(df).__module__ in __backend_agg_df_modules and type(df).__name__ == 'DataFrame') or isinstance(df, list):\n        __backend_agg_dfs.append(df)\n\ndisplay = __backend_agg_display_new\n\ndef __backend_agg_user_code_fn():\n    import base64\n    exec(base64.standard_b64decode(\"ZnJvbSBweXNwYXJrLnNxbC50eXBlcyBpbXBvcnQgSW50ZWdlclR5cGUKZnJvbSBweXNwYXJrLnNxbC5mdW5jdGlvbnMgaW1wb3J0IGNvbCxzdW0sd2hlbgpIckRGLmZpbHRlcihjb2woJ0F0dHJpdGlvbicpPT0nWWVzJykud2l0aENvbHVtbignYWdlX2dyb3VwJyx3aGVuKChjb2woJ2FnZScpPj0yMCkgJiAoY29sKCdhZ2UnKTw9MjUpLCcyMC0yNScpLlwKICAgIHdoZW4oKGNvbCgnYWdlJyk+PTI2KSAmIChjb2woJ2FnZScpPD0zMiksJzI2LTMyJykuXAogICAgd2hlbigoY29sKCdhZ2UnKT49MzMpICYgKGNvbCgnYWdlJyk8PTQwKSwnMzMtNDAnKS5vdGhlcndpc2UoJzQwKycpKS5cCiAgICAgICAgZ3JvdXBCeSgnYWdlX2dyb3VwJykuXAogICAgICAgIGFnZyhzdW0oY29sKCdFbXBsb3llZUNvdW50JykuY2FzdChJbnRlZ2VyVHlwZSgpKSkuYWxpYXMoJ0VtcGxveWVlIENvdW50JykpLmRpc3BsYXkoKQo=\").decode())\n\ntry:\n    # run user code\n    __backend_agg_user_code_fn()\n\n    #reset display function\n    display = __backend_agg_display_orig\n\n    if len(__backend_agg_dfs) > 0:\n        # create a temp view\n        if type(__backend_agg_dfs[0]).__module__ == \"databricks.koalas.frame\":\n            # koalas dataframe\n            __backend_agg_dfs[0].to_spark().createOrReplaceTempView(\"DatabricksView2495d69\")\n        elif type(__backend_agg_dfs[0]).__module__ == \"pandas.core.frame\" or isinstance(__backend_agg_dfs[0], list):\n            # pandas dataframe\n            spark.createDataFrame(__backend_agg_dfs[0]).createOrReplaceTempView(\"DatabricksView2495d69\")\n        else:\n            __backend_agg_dfs[0].createOrReplaceTempView(\"DatabricksView2495d69\")\n        #run backend agg\n        display(spark.sql(\"\"\"WITH q AS (select * from DatabricksView2495d69) SELECT `age_group`,SUM(`Employee Count`) `column_6b8ae48b6` FROM q GROUP BY `age_group`\"\"\"))\n    else:\n        displayHTML(\"dataframe no longer exists. If you're using dataframe.display(), use display(dataframe) instead.\")\n\n\nfinally:\n    spark.sql(\"drop view if exists DatabricksView2495d69\")\n    display = __backend_agg_display_orig\n    del __backend_agg_display_new\n    del __backend_agg_display_orig\n    del __backend_agg_dfs\n    del __backend_agg_user_code_fn\n\n",
       "commandTitle": "Visualization 1",
       "commandType": "auto",
       "commandVersion": 0,
       "commentThread": [],
       "commentsVisible": false,
       "contentSha256Hex": null,
       "customPlotOptions": {
        "redashChart": [
         {
          "key": "type",
          "value": "CHART"
         },
         {
          "key": "options",
          "value": {
           "alignYAxesAtZero": true,
           "coefficient": 1,
           "columnConfigurationMap": {
            "x": {
             "column": "age_group",
             "id": "column_6b8ae48b5"
            },
            "y": [
             {
              "column": "Employee Count",
              "id": "column_6b8ae48b6",
              "transform": "SUM"
             }
            ]
           },
           "dateTimeFormat": "DD/MM/YYYY HH:mm",
           "direction": {
            "type": "counterclockwise"
           },
           "error_y": {
            "type": "data",
            "visible": true
           },
           "globalSeriesType": "pie",
           "legend": {
            "traceorder": "normal"
           },
           "missingValuesAsZero": true,
           "numberFormat": "0,0.[00000]",
           "percentFormat": "0[.]00%",
           "series": {
            "error_y": {
             "type": "data",
             "visible": true
            },
            "stacking": null
           },
           "seriesOptions": {
            "column_6b8ae48b6": {
             "name": "Employee Count",
             "type": "pie",
             "yAxis": 0
            }
           },
           "showDataLabels": true,
           "sizemode": "diameter",
           "sortX": true,
           "sortY": true,
           "swappedAxes": false,
           "textFormat": "",
           "useAggregationsUi": true,
           "valuesOptions": {},
           "version": 2,
           "xAxis": {
            "labels": {
             "enabled": true
            },
            "type": "-"
           },
           "yAxis": [
            {
             "type": "-"
            },
            {
             "opposite": true,
             "type": "-"
            }
           ]
          }
         }
        ]
       },
       "datasetPreviewNameToCmdIdMap": {},
       "diffDeletes": [],
       "diffInserts": [],
       "displayType": "redashChart",
       "error": null,
       "errorDetails": null,
       "errorSummary": null,
       "errorTraceType": null,
       "finishTime": 0,
       "globalVars": {},
       "guid": "",
       "height": "auto",
       "hideCommandCode": false,
       "hideCommandResult": false,
       "iPythonMetadata": null,
       "inputWidgets": {},
       "isLockedInExamMode": false,
       "latestUser": "a user",
       "latestUserId": null,
       "listResultMetadata": null,
       "metadata": {},
       "nuid": "5c033111-91eb-47dd-9084-566f7a2bf1ad",
       "origId": 0,
       "parentHierarchy": [],
       "pivotAggregation": null,
       "pivotColumns": null,
       "position": 7.0,
       "resultDbfsErrorMessage": null,
       "resultDbfsStatus": "INLINED_IN_TREE",
       "results": null,
       "showCommandTitle": false,
       "startTime": 0,
       "state": "input",
       "streamStates": {},
       "subcommandOptions": {
        "queryPlan": {
         "groups": [
          {
           "column": "age_group",
           "type": "column"
          }
         ],
         "selects": [
          {
           "column": "age_group",
           "type": "column"
          },
          {
           "alias": "column_6b8ae48b6",
           "args": [
            {
             "column": "Employee Count",
             "type": "column"
            }
           ],
           "function": "SUM",
           "type": "function"
          }
         ]
        }
       },
       "submitTime": 0,
       "subtype": "tableResultSubCmd.visualization",
       "tableResultIndex": 0,
       "useConsistentColors": false,
       "version": "CommandV1",
       "width": "auto",
       "workflows": [],
       "xColumns": null,
       "yColumns": null
      }
     },
     "output_type": "display_data"
    }
   ],
   "source": [
    "from pyspark.sql.types import IntegerType\n",
    "from pyspark.sql.functions import col,sum,when\n",
    "HrDF.filter(col('Attrition')=='Yes').withColumn('age_group',when((col('age')>=20) & (col('age')<=25),'20-25').\\\n",
    "    when((col('age')>=26) & (col('age')<=32),'26-32').\\\n",
    "    when((col('age')>=33) & (col('age')<=40),'33-40').otherwise('40+')).\\\n",
    "        groupBy('age_group').\\\n",
    "        agg(sum(col('EmployeeCount').cast(IntegerType())).alias('Employee Count')).display()\n"
   ]
  },
  {
   "cell_type": "code",
   "execution_count": 0,
   "metadata": {
    "application/vnd.databricks.v1+cell": {
     "cellMetadata": {
      "byteLimit": 2048000,
      "rowLimit": 10000
     },
     "inputWidgets": {},
     "nuid": "75c58263-7a2b-4e86-8f53-791b44bb0e74",
     "showTitle": false,
     "title": ""
    }
   },
   "outputs": [
    {
     "output_type": "display_data",
     "data": {
      "text/html": [
       "<style scoped>\n",
       "  .table-result-container {\n",
       "    max-height: 300px;\n",
       "    overflow: auto;\n",
       "  }\n",
       "  table, th, td {\n",
       "    border: 1px solid black;\n",
       "    border-collapse: collapse;\n",
       "  }\n",
       "  th, td {\n",
       "    padding: 5px;\n",
       "  }\n",
       "  th {\n",
       "    text-align: left;\n",
       "  }\n",
       "</style><div class='table-result-container'><table class='table-result'><thead style='background-color: white'><tr><th>education</th><th>Employee Count</th></tr></thead><tbody><tr><td>Below College</td><td>130</td></tr><tr><td>Master</td><td>5</td></tr><tr><td>Bachelor</td><td>58</td></tr><tr><td>College</td><td>44</td></tr></tbody></table></div>"
      ]
     },
     "metadata": {
      "application/vnd.databricks.v1+output": {
       "addedWidgets": {},
       "aggData": [],
       "aggError": "",
       "aggOverflow": false,
       "aggSchema": [],
       "aggSeriesLimitReached": false,
       "aggType": "",
       "arguments": {},
       "columnCustomDisplayInfos": {},
       "data": [
        [
         "Below College",
         130
        ],
        [
         "Master",
         5
        ],
        [
         "Bachelor",
         58
        ],
        [
         "College",
         44
        ]
       ],
       "datasetInfos": [],
       "dbfsResultPath": null,
       "isJsonSchema": true,
       "metadata": {},
       "overflow": false,
       "plotOptions": {
        "customPlotOptions": {},
        "displayType": "table",
        "pivotAggregation": null,
        "pivotColumns": null,
        "xColumns": null,
        "yColumns": null
       },
       "removedWidgets": [],
       "schema": [
        {
         "metadata": "{}",
         "name": "education",
         "type": "\"string\""
        },
        {
         "metadata": "{}",
         "name": "Employee Count",
         "type": "\"long\""
        }
       ],
       "type": "table"
      }
     },
     "output_type": "display_data"
    },
    {
     "output_type": "display_data",
     "data": {
      "text/plain": [
       "Databricks visualization. Run in Databricks to view."
      ]
     },
     "metadata": {
      "application/vnd.databricks.v1.subcommand+json": {
       "bindings": {},
       "collapsed": false,
       "command": "%python\n__backend_agg_display_orig = display\n__backend_agg_dfs = []\ndef __backend_agg_display_new(df):\n    __backend_agg_df_modules = [\"pandas.core.frame\", \"databricks.koalas.frame\", \"pyspark.sql.dataframe\", \"pyspark.pandas.frame\", \"pyspark.sql.connect.dataframe\"]\n    if (type(df).__module__ in __backend_agg_df_modules and type(df).__name__ == 'DataFrame') or isinstance(df, list):\n        __backend_agg_dfs.append(df)\n\ndisplay = __backend_agg_display_new\n\ndef __backend_agg_user_code_fn():\n    import base64\n    exec(base64.standard_b64decode(\"ZnJvbSBweXNwYXJrLnNxbC50eXBlcyBpbXBvcnQgSW50ZWdlclR5cGUKZnJvbSBweXNwYXJrLnNxbC5mdW5jdGlvbnMgaW1wb3J0IGNvbCxzdW0sd2hlbgpIckRGLmZpbHRlcihjb2woJ0F0dHJpdGlvbicpPT0nWWVzJykuXAogICAgICAgIHdpdGhDb2x1bW4oJ2VkdWNhdGlvbicsd2hlbihjb2woJ2VkdWNhdGlvbicpPT0nMScsJ0JlbG93IENvbGxlZ2UnKS5cCiAgICAgICAgIHdoZW4oY29sKCdlZHVjYXRpb24nKT09JzInLCdDb2xsZWdlJykud2hlbihjb2woJ2VkdWNhdGlvbicpPT0nMycsJ0JlbG93IENvbGxlZ2UnKS5cCiAgICAgICAgIHdoZW4oY29sKCdlZHVjYXRpb24nKT09JzQnLCdCYWNoZWxvcicpLlwKICAgICAgICAgd2hlbihjb2woJ2VkdWNhdGlvbicpPT0nNScsJ01hc3RlcicpLlwKICAgICAgICAgd2hlbihjb2woJ2VkdWNhdGlvbicpPT0nNicsJ1BoRCcpKS5ncm91cEJ5KCdlZHVjYXRpb24nKS5cCiAgICAgICAgYWdnKHN1bShjb2woJ0VtcGxveWVlQ291bnQnKS5jYXN0KEludGVnZXJUeXBlKCkpKS5hbGlhcygnRW1wbG95ZWUgQ291bnQnKSkuZGlzcGxheSgp\").decode())\n\ntry:\n    # run user code\n    __backend_agg_user_code_fn()\n\n    #reset display function\n    display = __backend_agg_display_orig\n\n    if len(__backend_agg_dfs) > 0:\n        # create a temp view\n        if type(__backend_agg_dfs[0]).__module__ == \"databricks.koalas.frame\":\n            # koalas dataframe\n            __backend_agg_dfs[0].to_spark().createOrReplaceTempView(\"DatabricksView8984fc5\")\n        elif type(__backend_agg_dfs[0]).__module__ == \"pandas.core.frame\" or isinstance(__backend_agg_dfs[0], list):\n            # pandas dataframe\n            spark.createDataFrame(__backend_agg_dfs[0]).createOrReplaceTempView(\"DatabricksView8984fc5\")\n        else:\n            __backend_agg_dfs[0].createOrReplaceTempView(\"DatabricksView8984fc5\")\n        #run backend agg\n        display(spark.sql(\"\"\"WITH q AS (select * from DatabricksView8984fc5) SELECT `education`,SUM(`Employee Count`) `column_a525c92c6` FROM q GROUP BY `education`\"\"\"))\n    else:\n        displayHTML(\"dataframe no longer exists. If you're using dataframe.display(), use display(dataframe) instead.\")\n\n\nfinally:\n    spark.sql(\"drop view if exists DatabricksView8984fc5\")\n    display = __backend_agg_display_orig\n    del __backend_agg_display_new\n    del __backend_agg_display_orig\n    del __backend_agg_dfs\n    del __backend_agg_user_code_fn\n\n",
       "commandTitle": "Visualization 1",
       "commandType": "auto",
       "commandVersion": 0,
       "commentThread": [],
       "commentsVisible": false,
       "contentSha256Hex": null,
       "customPlotOptions": {
        "redashChart": [
         {
          "key": "type",
          "value": "CHART"
         },
         {
          "key": "options",
          "value": {
           "alignYAxesAtZero": true,
           "coefficient": 1,
           "columnConfigurationMap": {
            "x": {
             "column": "education",
             "id": "column_a525c92c5"
            },
            "y": [
             {
              "column": "Employee Count",
              "id": "column_a525c92c6",
              "transform": "SUM"
             }
            ]
           },
           "dateTimeFormat": "DD/MM/YYYY HH:mm",
           "direction": {
            "type": "counterclockwise"
           },
           "error_y": {
            "type": "data",
            "visible": true
           },
           "globalSeriesType": "pie",
           "legend": {
            "traceorder": "normal"
           },
           "missingValuesAsZero": true,
           "numberFormat": "0,0.[00000]",
           "percentFormat": "0[.]00%",
           "series": {
            "error_y": {
             "type": "data",
             "visible": true
            },
            "stacking": null
           },
           "seriesOptions": {
            "column_a525c92c6": {
             "name": "Employee Count",
             "type": "pie",
             "yAxis": 0
            }
           },
           "showDataLabels": true,
           "sizemode": "diameter",
           "sortX": true,
           "sortY": true,
           "swappedAxes": false,
           "textFormat": "",
           "useAggregationsUi": true,
           "valuesOptions": {},
           "version": 2,
           "xAxis": {
            "labels": {
             "enabled": true
            },
            "type": "-"
           },
           "yAxis": [
            {
             "type": "-"
            },
            {
             "opposite": true,
             "type": "-"
            }
           ]
          }
         }
        ]
       },
       "datasetPreviewNameToCmdIdMap": {},
       "diffDeletes": [],
       "diffInserts": [],
       "displayType": "redashChart",
       "error": null,
       "errorDetails": null,
       "errorSummary": null,
       "errorTraceType": null,
       "finishTime": 0,
       "globalVars": {},
       "guid": "",
       "height": "auto",
       "hideCommandCode": false,
       "hideCommandResult": false,
       "iPythonMetadata": null,
       "inputWidgets": {},
       "isLockedInExamMode": false,
       "latestUser": "a user",
       "latestUserId": null,
       "listResultMetadata": null,
       "metadata": {},
       "nuid": "19ed9b84-90a0-48e3-bf62-6172c00432db",
       "origId": 0,
       "parentHierarchy": [],
       "pivotAggregation": null,
       "pivotColumns": null,
       "position": 8.0,
       "resultDbfsErrorMessage": null,
       "resultDbfsStatus": "INLINED_IN_TREE",
       "results": null,
       "showCommandTitle": false,
       "startTime": 0,
       "state": "input",
       "streamStates": {},
       "subcommandOptions": {
        "queryPlan": {
         "groups": [
          {
           "column": "education",
           "type": "column"
          }
         ],
         "selects": [
          {
           "column": "education",
           "type": "column"
          },
          {
           "alias": "column_a525c92c6",
           "args": [
            {
             "column": "Employee Count",
             "type": "column"
            }
           ],
           "function": "SUM",
           "type": "function"
          }
         ]
        }
       },
       "submitTime": 0,
       "subtype": "tableResultSubCmd.visualization",
       "tableResultIndex": 0,
       "useConsistentColors": false,
       "version": "CommandV1",
       "width": "auto",
       "workflows": [],
       "xColumns": null,
       "yColumns": null
      }
     },
     "output_type": "display_data"
    }
   ],
   "source": [
    "from pyspark.sql.types import IntegerType\n",
    "from pyspark.sql.functions import col,sum,when\n",
    "HrDF.filter(col('Attrition')=='Yes').\\\n",
    "        withColumn('education',when(col('education')=='1','Below College').\\\n",
    "         when(col('education')=='2','College').when(col('education')=='3','Below College').\\\n",
    "         when(col('education')=='4','Bachelor').\\\n",
    "         when(col('education')=='5','Master').\\\n",
    "         when(col('education')=='6','PhD')).groupBy('education').\\\n",
    "        agg(sum(col('EmployeeCount').cast(IntegerType())).alias('Employee Count')).display()"
   ]
  },
  {
   "cell_type": "code",
   "execution_count": 0,
   "metadata": {
    "application/vnd.databricks.v1+cell": {
     "cellMetadata": {
      "byteLimit": 2048000,
      "rowLimit": 10000
     },
     "inputWidgets": {},
     "nuid": "cd9b2a66-76cc-48ae-be0d-be3419ddeb6f",
     "showTitle": false,
     "title": ""
    }
   },
   "outputs": [
    {
     "output_type": "display_data",
     "data": {
      "text/html": [
       "<style scoped>\n",
       "  .table-result-container {\n",
       "    max-height: 300px;\n",
       "    overflow: auto;\n",
       "  }\n",
       "  table, th, td {\n",
       "    border: 1px solid black;\n",
       "    border-collapse: collapse;\n",
       "  }\n",
       "  th, td {\n",
       "    padding: 5px;\n",
       "  }\n",
       "  th {\n",
       "    text-align: left;\n",
       "  }\n",
       "</style><div class='table-result-container'><table class='table-result'><thead style='background-color: white'><tr><th>education</th><th>Employee Count</th></tr></thead><tbody><tr><td>3</td><td>99</td></tr><tr><td>5</td><td>5</td></tr><tr><td>1</td><td>31</td></tr><tr><td>4</td><td>58</td></tr><tr><td>2</td><td>44</td></tr></tbody></table></div>"
      ]
     },
     "metadata": {
      "application/vnd.databricks.v1+output": {
       "addedWidgets": {},
       "aggData": [],
       "aggError": "",
       "aggOverflow": false,
       "aggSchema": [],
       "aggSeriesLimitReached": false,
       "aggType": "",
       "arguments": {},
       "columnCustomDisplayInfos": {},
       "data": [
        [
         "3",
         99
        ],
        [
         "5",
         5
        ],
        [
         "1",
         31
        ],
        [
         "4",
         58
        ],
        [
         "2",
         44
        ]
       ],
       "datasetInfos": [],
       "dbfsResultPath": null,
       "isJsonSchema": true,
       "metadata": {},
       "overflow": false,
       "plotOptions": {
        "customPlotOptions": {},
        "displayType": "table",
        "pivotAggregation": null,
        "pivotColumns": null,
        "xColumns": null,
        "yColumns": null
       },
       "removedWidgets": [],
       "schema": [
        {
         "metadata": "{}",
         "name": "education",
         "type": "\"string\""
        },
        {
         "metadata": "{}",
         "name": "Employee Count",
         "type": "\"long\""
        }
       ],
       "type": "table"
      }
     },
     "output_type": "display_data"
    },
    {
     "output_type": "display_data",
     "data": {
      "text/plain": [
       "Databricks visualization. Run in Databricks to view."
      ]
     },
     "metadata": {
      "application/vnd.databricks.v1.subcommand+json": {
       "bindings": {},
       "collapsed": false,
       "command": "%python\n__backend_agg_display_orig = display\n__backend_agg_dfs = []\ndef __backend_agg_display_new(df):\n    __backend_agg_df_modules = [\"pandas.core.frame\", \"databricks.koalas.frame\", \"pyspark.sql.dataframe\", \"pyspark.pandas.frame\", \"pyspark.sql.connect.dataframe\"]\n    if (type(df).__module__ in __backend_agg_df_modules and type(df).__name__ == 'DataFrame') or isinstance(df, list):\n        __backend_agg_dfs.append(df)\n\ndisplay = __backend_agg_display_new\n\ndef __backend_agg_user_code_fn():\n    import base64\n    exec(base64.standard_b64decode(\"IGZyb20gcHlzcGFyay5zcWwudHlwZXMgaW1wb3J0IEludGVnZXJUeXBlCmZyb20gcHlzcGFyay5zcWwuZnVuY3Rpb25zIGltcG9ydCBjb2wsc3VtLHdoZW4KSHJERi5maWx0ZXIoY29sKCdBdHRyaXRpb24nKT09J1llcycpLlwKICAgICAgICBncm91cEJ5KCdlZHVjYXRpb24nKS5cCiAgICAgICAgYWdnKHN1bShjb2woJ0VtcGxveWVlQ291bnQnKS5jYXN0KEludGVnZXJUeXBlKCkpKS5hbGlhcygnRW1wbG95ZWUgQ291bnQnKSkuZGlzcGxheSgp\").decode())\n\ntry:\n    # run user code\n    __backend_agg_user_code_fn()\n\n    #reset display function\n    display = __backend_agg_display_orig\n\n    if len(__backend_agg_dfs) > 0:\n        # create a temp view\n        if type(__backend_agg_dfs[0]).__module__ == \"databricks.koalas.frame\":\n            # koalas dataframe\n            __backend_agg_dfs[0].to_spark().createOrReplaceTempView(\"DatabricksView1398db1\")\n        elif type(__backend_agg_dfs[0]).__module__ == \"pandas.core.frame\" or isinstance(__backend_agg_dfs[0], list):\n            # pandas dataframe\n            spark.createDataFrame(__backend_agg_dfs[0]).createOrReplaceTempView(\"DatabricksView1398db1\")\n        else:\n            __backend_agg_dfs[0].createOrReplaceTempView(\"DatabricksView1398db1\")\n        #run backend agg\n        display(spark.sql(\"\"\"WITH q AS (select * from DatabricksView1398db1) SELECT `education`,SUM(`Employee Count`) `column_a525c92c2` FROM q GROUP BY `education`\"\"\"))\n    else:\n        displayHTML(\"dataframe no longer exists. If you're using dataframe.display(), use display(dataframe) instead.\")\n\n\nfinally:\n    spark.sql(\"drop view if exists DatabricksView1398db1\")\n    display = __backend_agg_display_orig\n    del __backend_agg_display_new\n    del __backend_agg_display_orig\n    del __backend_agg_dfs\n    del __backend_agg_user_code_fn\n\n",
       "commandTitle": "Visualization 1",
       "commandType": "auto",
       "commandVersion": 0,
       "commentThread": [],
       "commentsVisible": false,
       "contentSha256Hex": null,
       "customPlotOptions": {
        "redashChart": [
         {
          "key": "type",
          "value": "CHART"
         },
         {
          "key": "options",
          "value": {
           "alignYAxesAtZero": true,
           "coefficient": 1,
           "columnConfigurationMap": {
            "x": {
             "column": "education",
             "id": "column_a525c92c1"
            },
            "y": [
             {
              "column": "Employee Count",
              "id": "column_a525c92c2",
              "transform": "SUM"
             }
            ]
           },
           "dateTimeFormat": "DD/MM/YYYY HH:mm",
           "direction": {
            "type": "counterclockwise"
           },
           "error_y": {
            "type": "data",
            "visible": true
           },
           "globalSeriesType": "column",
           "isAggregationOn": true,
           "legend": {
            "traceorder": "normal"
           },
           "missingValuesAsZero": true,
           "numberFormat": "0,0.[00000]",
           "percentFormat": "0[.]00%",
           "series": {
            "error_y": {
             "type": "data",
             "visible": true
            },
            "stacking": null
           },
           "seriesOptions": {
            "column_a525c92c2": {
             "name": "Employee Count",
             "yAxis": 0
            }
           },
           "showDataLabels": true,
           "sizemode": "diameter",
           "sortX": true,
           "sortY": true,
           "swappedAxes": true,
           "textFormat": "",
           "useAggregationsUi": true,
           "valuesOptions": {},
           "version": 2,
           "xAxis": {
            "labels": {
             "enabled": true
            },
            "type": "-"
           },
           "yAxis": [
            {
             "type": "-"
            },
            {
             "opposite": true,
             "type": "-"
            }
           ]
          }
         }
        ]
       },
       "datasetPreviewNameToCmdIdMap": {},
       "diffDeletes": [],
       "diffInserts": [],
       "displayType": "redashChart",
       "error": null,
       "errorDetails": null,
       "errorSummary": null,
       "errorTraceType": null,
       "finishTime": 0,
       "globalVars": {},
       "guid": "",
       "height": "auto",
       "hideCommandCode": false,
       "hideCommandResult": false,
       "iPythonMetadata": null,
       "inputWidgets": {},
       "isLockedInExamMode": false,
       "latestUser": "a user",
       "latestUserId": null,
       "listResultMetadata": null,
       "metadata": {},
       "nuid": "814a37f6-fce0-4b98-8efe-f5a126e51b39",
       "origId": 0,
       "parentHierarchy": [],
       "pivotAggregation": null,
       "pivotColumns": null,
       "position": 9.0,
       "resultDbfsErrorMessage": null,
       "resultDbfsStatus": "INLINED_IN_TREE",
       "results": null,
       "showCommandTitle": false,
       "startTime": 0,
       "state": "input",
       "streamStates": {},
       "subcommandOptions": {
        "queryPlan": {
         "groups": [
          {
           "column": "education",
           "type": "column"
          }
         ],
         "selects": [
          {
           "column": "education",
           "type": "column"
          },
          {
           "alias": "column_a525c92c2",
           "args": [
            {
             "column": "Employee Count",
             "type": "column"
            }
           ],
           "function": "SUM",
           "type": "function"
          }
         ]
        }
       },
       "submitTime": 0,
       "subtype": "tableResultSubCmd.visualization",
       "tableResultIndex": 0,
       "useConsistentColors": false,
       "version": "CommandV1",
       "width": "auto",
       "workflows": [],
       "xColumns": null,
       "yColumns": null
      }
     },
     "output_type": "display_data"
    }
   ],
   "source": [
    " from pyspark.sql.types import IntegerType\n",
    "from pyspark.sql.functions import col,sum,when\n",
    "HrDF.filter(col('Attrition')=='Yes').\\\n",
    "        groupBy('education').\\\n",
    "        agg(sum(col('EmployeeCount').cast(IntegerType())).alias('Employee Count')).display()"
   ]
  },
  {
   "cell_type": "code",
   "execution_count": 0,
   "metadata": {
    "application/vnd.databricks.v1+cell": {
     "cellMetadata": {},
     "inputWidgets": {},
     "nuid": "ebfe116e-ce43-4712-9f85-4593d08fbe44",
     "showTitle": false,
     "title": ""
    }
   },
   "outputs": [],
   "source": []
  }
 ],
 "metadata": {
  "application/vnd.databricks.v1+notebook": {
   "dashboards": [
    {
     "elements": [
      {
       "dashboardResultIndex": null,
       "elementNUID": "5c033111-91eb-47dd-9084-566f7a2bf1ad",
       "elementType": "command",
       "guid": "6dd639ea-df61-4f98-b227-3391d7e7bb33",
       "options": null,
       "position": {
        "height": 6,
        "width": 12,
        "x": 0,
        "y": 6,
        "z": null
       },
       "resultIndex": null
      },
      {
       "dashboardResultIndex": null,
       "elementNUID": "814a37f6-fce0-4b98-8efe-f5a126e51b39",
       "elementType": "command",
       "guid": "fc3a4aea-5f46-4a86-b63e-27defb8844d8",
       "options": null,
       "position": null,
       "resultIndex": null
      }
     ],
     "globalVars": {},
     "guid": "",
     "layoutOption": {
      "grid": true,
      "stack": true
     },
     "nuid": "1f124fe9-6e2e-428d-9a83-2f59112009fa",
     "origId": 3245411415045524,
     "title": "Attrition",
     "version": "DashboardViewV1",
     "width": 1024
    }
   ],
   "language": "python",
   "notebookMetadata": {
    "mostRecentlyExecutedCommandWithImplicitDF": {
     "commandId": 683724313839301,
     "dataframes": [
      "_sqldf"
     ]
    },
    "pythonIndentUnit": 4
   },
   "notebookName": "Employee Attrition Analysis",
   "widgets": {}
  }
 },
 "nbformat": 4,
 "nbformat_minor": 0
}
